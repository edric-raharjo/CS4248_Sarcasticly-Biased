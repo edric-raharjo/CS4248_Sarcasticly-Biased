{
 "cells": [
  {
   "cell_type": "code",
   "execution_count": 1,
   "metadata": {},
   "outputs": [],
   "source": [
    "from google import genai\n",
    "import numpy as np \n",
    "import pandas as pd \n",
    "from dotenv import load_dotenv\n",
    "import os\n",
    "import time"
   ]
  },
  {
   "cell_type": "markdown",
   "metadata": {},
   "source": [
    "### Loading the Data"
   ]
  },
  {
   "cell_type": "code",
   "execution_count": 2,
   "metadata": {},
   "outputs": [],
   "source": [
    "some_data = pd.read_json(\"Dataset.json\", lines=True)"
   ]
  },
  {
   "cell_type": "code",
   "execution_count": 3,
   "metadata": {},
   "outputs": [
    {
     "data": {
      "text/html": [
       "<div>\n",
       "<style scoped>\n",
       "    .dataframe tbody tr th:only-of-type {\n",
       "        vertical-align: middle;\n",
       "    }\n",
       "\n",
       "    .dataframe tbody tr th {\n",
       "        vertical-align: top;\n",
       "    }\n",
       "\n",
       "    .dataframe thead th {\n",
       "        text-align: right;\n",
       "    }\n",
       "</style>\n",
       "<table border=\"1\" class=\"dataframe\">\n",
       "  <thead>\n",
       "    <tr style=\"text-align: right;\">\n",
       "      <th></th>\n",
       "      <th>is_sarcastic</th>\n",
       "      <th>headline</th>\n",
       "    </tr>\n",
       "  </thead>\n",
       "  <tbody>\n",
       "    <tr>\n",
       "      <th>14385</th>\n",
       "      <td>1</td>\n",
       "      <td>professor pressured to sleep with student for ...</td>\n",
       "    </tr>\n",
       "    <tr>\n",
       "      <th>17796</th>\n",
       "      <td>1</td>\n",
       "      <td>mccain clinches religious vote with stirring h...</td>\n",
       "    </tr>\n",
       "    <tr>\n",
       "      <th>16982</th>\n",
       "      <td>1</td>\n",
       "      <td>gop leaders demand congressman duncan hunter's...</td>\n",
       "    </tr>\n",
       "    <tr>\n",
       "      <th>16711</th>\n",
       "      <td>0</td>\n",
       "      <td>devastating floods leave 23 dead in west virginia</td>\n",
       "    </tr>\n",
       "    <tr>\n",
       "      <th>8911</th>\n",
       "      <td>0</td>\n",
       "      <td>patty jenkins is already thinking about a 'won...</td>\n",
       "    </tr>\n",
       "    <tr>\n",
       "      <th>8159</th>\n",
       "      <td>1</td>\n",
       "      <td>many animals harmed in catering of film</td>\n",
       "    </tr>\n",
       "    <tr>\n",
       "      <th>19602</th>\n",
       "      <td>0</td>\n",
       "      <td>buzz aldrin blasts off with the air force thun...</td>\n",
       "    </tr>\n",
       "    <tr>\n",
       "      <th>4984</th>\n",
       "      <td>0</td>\n",
       "      <td>a u.s. cyclist made sure she won gold, then co...</td>\n",
       "    </tr>\n",
       "    <tr>\n",
       "      <th>3876</th>\n",
       "      <td>0</td>\n",
       "      <td>parents of kidnapped girls make desperate plea</td>\n",
       "    </tr>\n",
       "    <tr>\n",
       "      <th>2231</th>\n",
       "      <td>1</td>\n",
       "      <td>justice roberts stops in middle of oath of off...</td>\n",
       "    </tr>\n",
       "  </tbody>\n",
       "</table>\n",
       "</div>"
      ],
      "text/plain": [
       "       is_sarcastic                                           headline\n",
       "14385             1  professor pressured to sleep with student for ...\n",
       "17796             1  mccain clinches religious vote with stirring h...\n",
       "16982             1  gop leaders demand congressman duncan hunter's...\n",
       "16711             0  devastating floods leave 23 dead in west virginia\n",
       "8911              0  patty jenkins is already thinking about a 'won...\n",
       "8159              1            many animals harmed in catering of film\n",
       "19602             0  buzz aldrin blasts off with the air force thun...\n",
       "4984              0  a u.s. cyclist made sure she won gold, then co...\n",
       "3876              0     parents of kidnapped girls make desperate plea\n",
       "2231              1  justice roberts stops in middle of oath of off..."
      ]
     },
     "execution_count": 3,
     "metadata": {},
     "output_type": "execute_result"
    }
   ],
   "source": [
    "some_data.iloc[:,:2].sample(10)"
   ]
  },
  {
   "cell_type": "code",
   "execution_count": 4,
   "metadata": {},
   "outputs": [
    {
     "data": {
      "text/plain": [
       "(28619, 3)"
      ]
     },
     "execution_count": 4,
     "metadata": {},
     "output_type": "execute_result"
    }
   ],
   "source": [
    "some_data.shape"
   ]
  },
  {
   "cell_type": "markdown",
   "metadata": {},
   "source": [
    "### Is it political? (with Gemini)"
   ]
  },
  {
   "cell_type": "code",
   "execution_count": 20,
   "metadata": {},
   "outputs": [],
   "source": [
    "load_dotenv()\n",
    "SECRET_KEY = os.getenv('SECRET_KEY_2')\n",
    "client = genai.Client(api_key=SECRET_KEY)"
   ]
  },
  {
   "cell_type": "code",
   "execution_count": 6,
   "metadata": {},
   "outputs": [
    {
     "name": "stdout",
     "output_type": "stream",
     "text": [
      "trump pours himself glass of chocolate syrup on rocks to unwind after stressful day\n",
      "scientists isolate gene simmons\n",
      "jupiter's liberals worried about their ammonia footprint\n",
      "ecuadorian embassy runs ad seeking 'no drama' tenant for newly vacant room\n",
      "biden forges president's signature on executive order to make december dokken history month\n",
      "serious man pleased with how jowls are coming in\n",
      "new custard could cause worldwide flandemic\n",
      "elmore leonard, modern prose master, noted for his terse prose style and for writing about things perfectly and succinctly with a remarkable economy of words, unfortunately and sadly expired this gloomy tuesday at the age of 87 years old\n",
      "$85,000 in fertility treatments result in miracle\n",
      "poll finds only 83% of new yorkers visit statue of liberty every day\n"
     ]
    }
   ],
   "source": [
    "for i in some_data[some_data[\"is_sarcastic\"] == 1].headline.sample(10):\n",
    "    print (i)"
   ]
  },
  {
   "cell_type": "code",
   "execution_count": 7,
   "metadata": {},
   "outputs": [],
   "source": [
    "from tqdm import tqdm\n",
    "import time\n",
    "\n",
    "prompt_bare = \"\"\"Are the following titles of a political genre? \n",
    "Each line is a different sentence\n",
    "\n",
    "Answer only 0 if it's not, and answer only 1 otherwise\n",
    "Give the answer in a list, and only reply in a list\n",
    "\n",
    "Example answer for 20 texts:\n",
    "[0,0,1,1,0,0,0,0,1,0,0,0,1,1,1,0,0,0,1,1]\n",
    "\n",
    "Texts : \n",
    "{}\n",
    "\"\"\"\n",
    "client = genai.Client(api_key=SECRET_KEY)"
   ]
  },
  {
   "cell_type": "code",
   "execution_count": 8,
   "metadata": {},
   "outputs": [],
   "source": [
    "all_titles_full = some_data.headline.values.tolist()"
   ]
  },
  {
   "cell_type": "code",
   "execution_count": 18,
   "metadata": {},
   "outputs": [
    {
     "data": {
      "text/plain": [
       "639"
      ]
     },
     "execution_count": 18,
     "metadata": {},
     "output_type": "execute_result"
    }
   ],
   "source": [
    "len(all_titles_full)"
   ]
  },
  {
   "cell_type": "code",
   "execution_count": 29,
   "metadata": {},
   "outputs": [
    {
     "name": "stderr",
     "output_type": "stream",
     "text": [
      "  0%|          | 0/64 [00:00<?, ?it/s]"
     ]
    },
    {
     "name": "stderr",
     "output_type": "stream",
     "text": [
      "100%|██████████| 64/64 [04:38<00:00,  4.35s/it]\n"
     ]
    }
   ],
   "source": [
    "BATCH_SIZE = 10\n",
    "\n",
    "# all_titles = all_titles_full[640:]\n",
    "all_titles = all_titles_full\n",
    "\n",
    "total_batches = (len(all_titles) + BATCH_SIZE - 1) // BATCH_SIZE  \n",
    "\n",
    "with tqdm(total=total_batches) as pbar:\n",
    "    results_after = []\n",
    "    for i in range(0, len(all_titles), BATCH_SIZE):\n",
    "        batch = all_titles[i:i + BATCH_SIZE]\n",
    "        combined_text = \"\\n\".join(batch)  # Join 20 titles into a single string\n",
    "        \n",
    "        prompt = prompt_bare.format(combined_text)\n",
    "        \n",
    "        response = client.models.generate_content(model=\"gemini-2.0-flash\",\n",
    "                                                  contents=[prompt])\n",
    "        \n",
    "        results_after.append(response.text.strip())  \n",
    "        time.sleep(3)  # Adjust based on API rate limits\n",
    "        \n",
    "        pbar.update(1) "
   ]
  },
  {
   "cell_type": "code",
   "execution_count": 31,
   "metadata": {},
   "outputs": [
    {
     "name": "stdout",
     "output_type": "stream",
     "text": [
      "63\n",
      "639\n"
     ]
    }
   ],
   "source": [
    "true_res = []\n",
    "for idx,i in enumerate(results_after):\n",
    "    i_e = eval(i)\n",
    "\n",
    "    if len(i_e) != BATCH_SIZE:\n",
    "        print (idx)\n",
    "        \n",
    "    true_res.extend(i_e)\n",
    "\n",
    "print (len(true_res))"
   ]
  },
  {
   "cell_type": "markdown",
   "metadata": {},
   "source": [
    "### Revise Errors"
   ]
  },
  {
   "cell_type": "code",
   "execution_count": 45,
   "metadata": {},
   "outputs": [
    {
     "data": {
      "text/html": [
       "<div>\n",
       "<style scoped>\n",
       "    .dataframe tbody tr th:only-of-type {\n",
       "        vertical-align: middle;\n",
       "    }\n",
       "\n",
       "    .dataframe tbody tr th {\n",
       "        vertical-align: top;\n",
       "    }\n",
       "\n",
       "    .dataframe thead th {\n",
       "        text-align: right;\n",
       "    }\n",
       "</style>\n",
       "<table border=\"1\" class=\"dataframe\">\n",
       "  <thead>\n",
       "    <tr style=\"text-align: right;\">\n",
       "      <th></th>\n",
       "      <th>is_sarcastic</th>\n",
       "      <th>headline</th>\n",
       "      <th>article_link</th>\n",
       "      <th>is_political</th>\n",
       "    </tr>\n",
       "  </thead>\n",
       "  <tbody>\n",
       "    <tr>\n",
       "      <th>4280</th>\n",
       "      <td>1</td>\n",
       "      <td>grandpa looking absolutely precious in new bas...</td>\n",
       "      <td>https://local.theonion.com/grandpa-looking-abs...</td>\n",
       "      <td>error</td>\n",
       "    </tr>\n",
       "    <tr>\n",
       "      <th>4281</th>\n",
       "      <td>0</td>\n",
       "      <td>arrested but innocent? the internet still thin...</td>\n",
       "      <td>https://www.huffingtonpost.com/entry/helping-e...</td>\n",
       "      <td>error</td>\n",
       "    </tr>\n",
       "    <tr>\n",
       "      <th>4282</th>\n",
       "      <td>1</td>\n",
       "      <td>historical archives: to be sold - carved woode...</td>\n",
       "      <td>https://www.theonion.com/historical-archives-t...</td>\n",
       "      <td>error</td>\n",
       "    </tr>\n",
       "    <tr>\n",
       "      <th>4283</th>\n",
       "      <td>1</td>\n",
       "      <td>report: one in five women training to be yoga ...</td>\n",
       "      <td>https://www.theonion.com/report-one-in-five-wo...</td>\n",
       "      <td>error</td>\n",
       "    </tr>\n",
       "    <tr>\n",
       "      <th>4284</th>\n",
       "      <td>1</td>\n",
       "      <td>thieves make off with museum's most valuable d...</td>\n",
       "      <td>https://local.theonion.com/thieves-make-off-wi...</td>\n",
       "      <td>error</td>\n",
       "    </tr>\n",
       "    <tr>\n",
       "      <th>...</th>\n",
       "      <td>...</td>\n",
       "      <td>...</td>\n",
       "      <td>...</td>\n",
       "      <td>...</td>\n",
       "    </tr>\n",
       "    <tr>\n",
       "      <th>28614</th>\n",
       "      <td>1</td>\n",
       "      <td>jews to celebrate rosh hashasha or something</td>\n",
       "      <td>https://www.theonion.com/jews-to-celebrate-ros...</td>\n",
       "      <td>empty</td>\n",
       "    </tr>\n",
       "    <tr>\n",
       "      <th>28615</th>\n",
       "      <td>1</td>\n",
       "      <td>internal affairs investigator disappointed con...</td>\n",
       "      <td>https://local.theonion.com/internal-affairs-in...</td>\n",
       "      <td>empty</td>\n",
       "    </tr>\n",
       "    <tr>\n",
       "      <th>28616</th>\n",
       "      <td>0</td>\n",
       "      <td>the most beautiful acceptance speech this week...</td>\n",
       "      <td>https://www.huffingtonpost.com/entry/andrew-ah...</td>\n",
       "      <td>empty</td>\n",
       "    </tr>\n",
       "    <tr>\n",
       "      <th>28617</th>\n",
       "      <td>1</td>\n",
       "      <td>mars probe destroyed by orbiting spielberg-gat...</td>\n",
       "      <td>https://www.theonion.com/mars-probe-destroyed-...</td>\n",
       "      <td>empty</td>\n",
       "    </tr>\n",
       "    <tr>\n",
       "      <th>28618</th>\n",
       "      <td>1</td>\n",
       "      <td>dad clarifies this not a food stop</td>\n",
       "      <td>https://www.theonion.com/dad-clarifies-this-no...</td>\n",
       "      <td>empty</td>\n",
       "    </tr>\n",
       "  </tbody>\n",
       "</table>\n",
       "<p>639 rows × 4 columns</p>\n",
       "</div>"
      ],
      "text/plain": [
       "       is_sarcastic                                           headline  \\\n",
       "4280              1  grandpa looking absolutely precious in new bas...   \n",
       "4281              0  arrested but innocent? the internet still thin...   \n",
       "4282              1  historical archives: to be sold - carved woode...   \n",
       "4283              1  report: one in five women training to be yoga ...   \n",
       "4284              1  thieves make off with museum's most valuable d...   \n",
       "...             ...                                                ...   \n",
       "28614             1       jews to celebrate rosh hashasha or something   \n",
       "28615             1  internal affairs investigator disappointed con...   \n",
       "28616             0  the most beautiful acceptance speech this week...   \n",
       "28617             1  mars probe destroyed by orbiting spielberg-gat...   \n",
       "28618             1                 dad clarifies this not a food stop   \n",
       "\n",
       "                                            article_link is_political  \n",
       "4280   https://local.theonion.com/grandpa-looking-abs...        error  \n",
       "4281   https://www.huffingtonpost.com/entry/helping-e...        error  \n",
       "4282   https://www.theonion.com/historical-archives-t...        error  \n",
       "4283   https://www.theonion.com/report-one-in-five-wo...        error  \n",
       "4284   https://local.theonion.com/thieves-make-off-wi...        error  \n",
       "...                                                  ...          ...  \n",
       "28614  https://www.theonion.com/jews-to-celebrate-ros...        empty  \n",
       "28615  https://local.theonion.com/internal-affairs-in...        empty  \n",
       "28616  https://www.huffingtonpost.com/entry/andrew-ah...        empty  \n",
       "28617  https://www.theonion.com/mars-probe-destroyed-...        empty  \n",
       "28618  https://www.theonion.com/dad-clarifies-this-no...        empty  \n",
       "\n",
       "[639 rows x 4 columns]"
      ]
     },
     "execution_count": 45,
     "metadata": {},
     "output_type": "execute_result"
    }
   ],
   "source": [
    "almost_done = pd.read_csv('all_but_some.csv')\n",
    "revisions = almost_done[~almost_done['is_political'].isin(['1','0'])].headline.values.tolist()\n",
    "almost_done[~almost_done['is_political'].isin(['1','0'])]"
   ]
  },
  {
   "cell_type": "code",
   "execution_count": null,
   "metadata": {},
   "outputs": [],
   "source": [
    "BATCH_SIZE = 10\n",
    "\n",
    "all_titles = revisions\n",
    "\n",
    "total_batches = (len(all_titles) + BATCH_SIZE - 1) // BATCH_SIZE  \n",
    "\n",
    "with tqdm(total=total_batches) as pbar:\n",
    "    results_after = []\n",
    "    for i in range(0, len(all_titles), BATCH_SIZE):\n",
    "        batch = all_titles[i:i + BATCH_SIZE]\n",
    "        combined_text = \"\\n\".join(batch)  # Join 20 titles into a single string\n",
    "        \n",
    "        prompt = prompt_bare.format(combined_text)\n",
    "        \n",
    "        response = client.models.generate_content(model=\"gemini-2.0-flash\",\n",
    "                                                  contents=[prompt])\n",
    "        \n",
    "        results_after.append(response.text.strip())  \n",
    "        time.sleep(3)  # Adjust based on API rate limits\n",
    "        \n",
    "        pbar.update(1) "
   ]
  },
  {
   "cell_type": "code",
   "execution_count": 30,
   "metadata": {},
   "outputs": [
    {
     "name": "stdout",
     "output_type": "stream",
     "text": [
      "639\n"
     ]
    }
   ],
   "source": [
    "true_res = []\n",
    "for idx,i in enumerate(results_after):\n",
    "    i_e = eval(i)\n",
    "\n",
    "    true_res.extend(i_e)\n",
    "\n",
    "print (len(true_res))"
   ]
  },
  {
   "cell_type": "code",
   "execution_count": 46,
   "metadata": {},
   "outputs": [],
   "source": [
    "import pandas as pd\n",
    "\n",
    "# Values to replace and replacement list\n",
    "error_count = 80\n",
    "empty_count = 559\n",
    "replacement_list = true_res\n",
    "\n",
    "# Splitting replacement list\n",
    "error_replacements = replacement_list[:error_count]\n",
    "empty_replacements = replacement_list[error_count:error_count + empty_count]"
   ]
  },
  {
   "cell_type": "code",
   "execution_count": 47,
   "metadata": {},
   "outputs": [
    {
     "data": {
      "text/plain": [
       "array(['0', '1', 'error', 'empty'], dtype=object)"
      ]
     },
     "execution_count": 47,
     "metadata": {},
     "output_type": "execute_result"
    }
   ],
   "source": [
    "almost_done.is_political.unique()"
   ]
  },
  {
   "cell_type": "code",
   "execution_count": 48,
   "metadata": {},
   "outputs": [
    {
     "name": "stdout",
     "output_type": "stream",
     "text": [
      "       is_sarcastic                                           headline  \\\n",
      "0                 1  thirtysomething scientists unveil doomsday clo...   \n",
      "1                 0  dem rep. totally nails why congress is falling...   \n",
      "2                 0  eat your veggies: 9 deliciously different recipes   \n",
      "3                 1  inclement weather prevents liar from getting t...   \n",
      "4                 1  mother comes pretty close to using word 'strea...   \n",
      "...             ...                                                ...   \n",
      "28614             1       jews to celebrate rosh hashasha or something   \n",
      "28615             1  internal affairs investigator disappointed con...   \n",
      "28616             0  the most beautiful acceptance speech this week...   \n",
      "28617             1  mars probe destroyed by orbiting spielberg-gat...   \n",
      "28618             1                 dad clarifies this not a food stop   \n",
      "\n",
      "                                            article_link is_political  \n",
      "0      https://www.theonion.com/thirtysomething-scien...            0  \n",
      "1      https://www.huffingtonpost.com/entry/donna-edw...            1  \n",
      "2      https://www.huffingtonpost.com/entry/eat-your-...            0  \n",
      "3      https://local.theonion.com/inclement-weather-p...            0  \n",
      "4      https://www.theonion.com/mother-comes-pretty-c...            0  \n",
      "...                                                  ...          ...  \n",
      "28614  https://www.theonion.com/jews-to-celebrate-ros...            0  \n",
      "28615  https://local.theonion.com/internal-affairs-in...            1  \n",
      "28616  https://www.huffingtonpost.com/entry/andrew-ah...            1  \n",
      "28617  https://www.theonion.com/mars-probe-destroyed-...            0  \n",
      "28618  https://www.theonion.com/dad-clarifies-this-no...            0  \n",
      "\n",
      "[28619 rows x 4 columns]\n"
     ]
    }
   ],
   "source": [
    "# Replace values\n",
    "almost_done.loc[almost_done['is_political'] == \"error\", 'is_political'] = error_replacements\n",
    "almost_done.loc[almost_done['is_political'] == \"empty\", 'is_political'] = empty_replacements\n",
    "\n",
    "print(almost_done)"
   ]
  },
  {
   "cell_type": "code",
   "execution_count": 50,
   "metadata": {},
   "outputs": [],
   "source": [
    "almost_done.is_political = almost_done.is_political.astype('int')"
   ]
  },
  {
   "cell_type": "code",
   "execution_count": 51,
   "metadata": {},
   "outputs": [],
   "source": [
    "done = almost_done.copy()\n",
    "done.to_csv('all_done.csv')"
   ]
  }
 ],
 "metadata": {
  "kernelspec": {
   "display_name": "Python 3",
   "language": "python",
   "name": "python3"
  },
  "language_info": {
   "codemirror_mode": {
    "name": "ipython",
    "version": 3
   },
   "file_extension": ".py",
   "mimetype": "text/x-python",
   "name": "python",
   "nbconvert_exporter": "python",
   "pygments_lexer": "ipython3",
   "version": "3.9.13"
  }
 },
 "nbformat": 4,
 "nbformat_minor": 2
}
